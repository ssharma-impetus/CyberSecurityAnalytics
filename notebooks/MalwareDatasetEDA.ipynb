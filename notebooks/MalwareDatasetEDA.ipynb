{
 "cells": [
  {
   "cell_type": "code",
   "execution_count": 1,
   "metadata": {
    "autoscroll": false,
    "hide_input": true,
    "init_cell": true
   },
   "outputs": [
    {
     "data": {
      "application/javascript": [
       "function clear_other_cells () {\n",
       "document.getElementById('file_menu').parentNode.style.display = 'none';\n",
       "document.getElementById('logout').style.display = 'none';\n",
       "document.getElementById('notebook_name').style.display = 'none';\n",
       "var this_cell = $(element).closest('.cell').data('cell');\n",
       "Jupyter.notebook.get_cells().forEach(function (cell) {\n",
       "if (cell.cell_type === 'code' && cell !== this_cell) {\n",
       "cell.clear_output();\n",
       "}\n",
       "Jupyter.notebook.set_dirty(true);\n",
       "});\n",
       "};\n",
       "$([IPython.events]).on('notebook_loaded.Notebook', clear_other_cells());\n",
       "$(window).on(\"beforeunload\", function(){\n",
       "Jupyter.notebook.kernel.restart();\n",
       "});\n",
       "$([IPython.events]).on('notebook_loaded.Notebook', function() {\n",
       "Jupyter.notebook.set_autosave_interval(0);\n",
       "});"
      ],
      "text/plain": [
       "<IPython.core.display.Javascript object>"
      ]
     },
     "metadata": {},
     "output_type": "display_data"
    }
   ],
   "source": [
    "%%javascript\n",
    "function clear_other_cells () {\n",
    "document.getElementById('file_menu').parentNode.style.display = 'none';\n",
    "document.getElementById('logout').style.display = 'none';\n",
    "document.getElementById('notebook_name').style.display = 'none';\n",
    "var this_cell = $(element).closest('.cell').data('cell');\n",
    "Jupyter.notebook.get_cells().forEach(function (cell) {\n",
    "if (cell.cell_type === 'code' && cell !== this_cell) {\n",
    "cell.clear_output();\n",
    "}\n",
    "Jupyter.notebook.set_dirty(true);\n",
    "});\n",
    "};\n",
    "$([IPython.events]).on('notebook_loaded.Notebook', clear_other_cells());\n",
    "$(window).on(\"beforeunload\", function(){\n",
    "Jupyter.notebook.kernel.restart();\n",
    "});\n",
    "$([IPython.events]).on('notebook_loaded.Notebook', function() {\n",
    "Jupyter.notebook.set_autosave_interval(0);\n",
    "});\n"
   ]
  },
  {
   "cell_type": "markdown",
   "metadata": {
    "autoscroll": false
   },
   "source": [
    "<ul style=\"list-style-type:circle;font-size:14px;line-height:27px;\">\n",
    "    <li><b>from streamanalytix.python.dataset import Dataset:</b> Load Dataset class from streamanalytix API.</li>\n",
    "\t<li><b>Dataset(source_name):</b> Creates object of dataset class for given source.\n",
    "\t\t<ul>\n",
    "\t\t\t<li><b>Dataset.get_dataframe():</b> Read data source and return a pandas dataframe. </li>\n",
    "\t\t</ul>\n",
    "\t</li>\n",
    "\t<li><b>from streamanalytix.utilities import sax_utils:</b> Load sax_util script. It has following functions\n",
    "\t\t<ul>\n",
    "\t\t\t<li><b>sax_utils.save_and_download_model(model_name, model_object):</b>This method lets the user to save and download the trained model with StreamAnalytix. This model can than be used for training and/or scoring purpose as part of the StreamAnalytix pipeline</li>\n",
    "\t\t\t\t<ul>\n",
    "\t\t\t\t\t<li><b>model_name:</b> Name of the model. Accepted String value only. e.g. <i>\"DecisionTreeModel\"</i></li>\n",
    "\t\t\t\t\t<li><b>model_object:</b> Object of the trained model</li>\n",
    "\t\t\t\t</ul>\n",
    "\t\t\t<li><b>sax_utils.get_h2o_cluster_url(cluster_name):</b>This method lets the user to get h2o cluster url by providing cluster name</li>\n",
    "\t\t\t\t<ul>\n",
    "\t\t\t\t\t<li><b>cluster_name:</b> Name of the cluster. Accepted String value only. e.g. <i>\"TrainingCluster\"</i></li>\n",
    "\t\t\t\t</ul>\n",
    "\t\t\t<li><b>sax_utils.upload_and_register_h2o_model(model_object, model_name, model_type, project_name, project_version):</b>This method lets the user to upload and register h2o model in 'mojo' format in streamanalytix</li>\n",
    "\t\t\t\t<ul>\n",
    "\t\t\t\t\t<li><b>model_object:</b> Object of trained H2O model</li>\n",
    "\t\t\t\t\t<li><b>model_name:</b>Name of the model. Accepted String value only. e.g. <i>\"H2OTreeModel\"</i>\n",
    "\t\t\t\t\t<li><b>model_type:</b>Type of trained model. Accepted String value only. We support H2O model of types :<i>\"DistributedRandomForest\"</i>,<i>\"GeneralizedLinearModelling\"</i>,<i>\"IsolationForest\"</i>,<i>\"GradientBoostingMachine\"</i></li>\n",
    "\t\t\t\t\t<li><b>project_name:</b>Project Name in which model should register. Accepted String value only. e.g. <i>\"MyProject\"</i></li>\n",
    "\t\t\t\t\t<li><b>project_version:</b>Version of given project in which model should register</li>\n",
    "\t\t\t\t</ul>\n",
    "\t\t</ul>\n",
    "\t</li>\n",
    "</ul>\n"
   ]
  },
  {
   "cell_type": "code",
   "execution_count": 10,
   "metadata": {
    "autoscroll": false
   },
   "outputs": [
    {
     "name": "stdout",
     "output_type": "stream",
     "text": [
      "Dataframe created\n",
      "Dataframe created\n"
     ]
    }
   ],
   "source": [
    "from streamanalytix.python.dataset import Dataset\n",
    "from streamanalytix.utilities import sax_utils\n",
    "\n",
    "\n",
    "dataset_1 = Dataset(\"trainingMalware\")\n",
    "dataset_2 = Dataset(\"testingMalware\")\n",
    "\n",
    "# you can use pandas to create dataframe as shown below\n",
    "train = dataset_1.get_dataframe()\n",
    "test = dataset_2.get_dataframe()"
   ]
  },
  {
   "cell_type": "code",
   "execution_count": 9,
   "metadata": {},
   "outputs": [],
   "source": [
    "import pandas as pd \n",
    "import matplotlib.pyplot as plt\n",
    "import seaborn as sns\n",
    "from sklearn.model_selection import KFold\n",
    "import warnings\n",
    "import gc\n",
    "import time\n",
    "import sys\n",
    "import datetime\n",
    "import matplotlib.pyplot as plt\n",
    "from sklearn.metrics import mean_squared_error"
   ]
  },
  {
   "cell_type": "code",
   "execution_count": 11,
   "metadata": {},
   "outputs": [
    {
     "name": "stdout",
     "output_type": "stream",
     "text": [
      "((9999, 83), (9999, 82))\n"
     ]
    }
   ],
   "source": [
    "print(train.shape, test.shape)\n"
   ]
  },
  {
   "cell_type": "code",
   "execution_count": 12,
   "metadata": {},
   "outputs": [
    {
     "data": {
      "text/plain": [
       "Text(0.5,1,'HasDetections(target)')"
      ]
     },
     "execution_count": 12,
     "metadata": {},
     "output_type": "execute_result"
    },
    {
     "data": {
      "image/png": "[encoded data removed]",
      "text/plain": [
       "<Figure size 432x288 with 1 Axes>"
      ]
     },
     "metadata": {
      "needs_background": "light"
     },
     "output_type": "display_data"
    }
   ],
   "source": [
    "train['HasDetections'].value_counts().plot.bar()\n",
    "plt.title('HasDetections(target)')"
   ]
  },
  {
   "cell_type": "code",
   "execution_count": 13,
   "metadata": {},
   "outputs": [
    {
     "name": "stdout",
     "output_type": "stream",
     "text": [
      "CPU times: user 162 ms, sys: 14.2 ms, total: 176 ms\n",
      "Wall time: 175 ms\n"
     ]
    }
   ],
   "source": [
    "%%time\n",
    "# checking missing data\n",
    "total = train.isnull().sum().sort_values(ascending = False)\n",
    "percent = (train.isnull().sum()/train.isnull().count()*100).sort_values(ascending = False)\n",
    "missing_train_data  = pd.concat([total, percent], axis=1, keys=['Total', 'Percent'])"
   ]
  },
  {
   "cell_type": "code",
   "execution_count": 14,
   "metadata": {},
   "outputs": [
    {
     "data": {
      "text/html": [
       "<div>\n",
       "<style scoped>\n",
       "    .dataframe tbody tr th:only-of-type {\n",
       "        vertical-align: middle;\n",
       "    }\n",
       "\n",
       "    .dataframe tbody tr th {\n",
       "        vertical-align: top;\n",
       "    }\n",
       "\n",
       "    .dataframe thead th {\n",
       "        text-align: right;\n",
       "    }\n",
       "</style>\n",
       "<table border=\"1\" class=\"dataframe\">\n",
       "  <thead>\n",
       "    <tr style=\"text-align: right;\">\n",
       "      <th></th>\n",
       "      <th>Total</th>\n",
       "      <th>Percent</th>\n",
       "    </tr>\n",
       "  </thead>\n",
       "  <tbody>\n",
       "    <tr>\n",
       "      <th>PuaMode</th>\n",
       "      <td>9996</td>\n",
       "      <td>99.969997</td>\n",
       "    </tr>\n",
       "    <tr>\n",
       "      <th>Census_ProcessorClass</th>\n",
       "      <td>9957</td>\n",
       "      <td>99.579958</td>\n",
       "    </tr>\n",
       "    <tr>\n",
       "      <th>DefaultBrowsersIdentifier</th>\n",
       "      <td>9527</td>\n",
       "      <td>95.279528</td>\n",
       "    </tr>\n",
       "    <tr>\n",
       "      <th>Census_IsFlightingInternal</th>\n",
       "      <td>8308</td>\n",
       "      <td>83.088309</td>\n",
       "    </tr>\n",
       "    <tr>\n",
       "      <th>Census_InternalBatteryType</th>\n",
       "      <td>7119</td>\n",
       "      <td>71.197120</td>\n",
       "    </tr>\n",
       "    <tr>\n",
       "      <th>Census_ThresholdOptIn</th>\n",
       "      <td>6371</td>\n",
       "      <td>63.716372</td>\n",
       "    </tr>\n",
       "    <tr>\n",
       "      <th>Census_IsWIMBootEnabled</th>\n",
       "      <td>6360</td>\n",
       "      <td>63.606361</td>\n",
       "    </tr>\n",
       "    <tr>\n",
       "      <th>SmartScreen</th>\n",
       "      <td>3603</td>\n",
       "      <td>36.033603</td>\n",
       "    </tr>\n",
       "    <tr>\n",
       "      <th>OrganizationIdentifier</th>\n",
       "      <td>3027</td>\n",
       "      <td>30.273027</td>\n",
       "    </tr>\n",
       "    <tr>\n",
       "      <th>SMode</th>\n",
       "      <td>609</td>\n",
       "      <td>6.090609</td>\n",
       "    </tr>\n",
       "    <tr>\n",
       "      <th>CityIdentifier</th>\n",
       "      <td>383</td>\n",
       "      <td>3.830383</td>\n",
       "    </tr>\n",
       "    <tr>\n",
       "      <th>Census_InternalBatteryNumberOfCharges</th>\n",
       "      <td>315</td>\n",
       "      <td>3.150315</td>\n",
       "    </tr>\n",
       "    <tr>\n",
       "      <th>Wdft_RegionIdentifier</th>\n",
       "      <td>309</td>\n",
       "      <td>3.090309</td>\n",
       "    </tr>\n",
       "    <tr>\n",
       "      <th>Wdft_IsGamer</th>\n",
       "      <td>309</td>\n",
       "      <td>3.090309</td>\n",
       "    </tr>\n",
       "    <tr>\n",
       "      <th>Census_FirmwareManufacturerIdentifier</th>\n",
       "      <td>206</td>\n",
       "      <td>2.060206</td>\n",
       "    </tr>\n",
       "    <tr>\n",
       "      <th>Census_IsFlightsDisabled</th>\n",
       "      <td>186</td>\n",
       "      <td>1.860186</td>\n",
       "    </tr>\n",
       "    <tr>\n",
       "      <th>Census_FirmwareVersionIdentifier</th>\n",
       "      <td>185</td>\n",
       "      <td>1.850185</td>\n",
       "    </tr>\n",
       "    <tr>\n",
       "      <th>Census_OEMModelIdentifier</th>\n",
       "      <td>115</td>\n",
       "      <td>1.150115</td>\n",
       "    </tr>\n",
       "    <tr>\n",
       "      <th>Census_OEMNameIdentifier</th>\n",
       "      <td>104</td>\n",
       "      <td>1.040104</td>\n",
       "    </tr>\n",
       "    <tr>\n",
       "      <th>Firewall</th>\n",
       "      <td>96</td>\n",
       "      <td>0.960096</td>\n",
       "    </tr>\n",
       "    <tr>\n",
       "      <th>Census_TotalPhysicalRAM</th>\n",
       "      <td>92</td>\n",
       "      <td>0.920092</td>\n",
       "    </tr>\n",
       "    <tr>\n",
       "      <th>Census_IsAlwaysOnAlwaysConnectedCapable</th>\n",
       "      <td>78</td>\n",
       "      <td>0.780078</td>\n",
       "    </tr>\n",
       "    <tr>\n",
       "      <th>IeVerIdentifier</th>\n",
       "      <td>75</td>\n",
       "      <td>0.750075</td>\n",
       "    </tr>\n",
       "    <tr>\n",
       "      <th>Census_OSInstallLanguageIdentifier</th>\n",
       "      <td>73</td>\n",
       "      <td>0.730073</td>\n",
       "    </tr>\n",
       "    <tr>\n",
       "      <th>Census_SystemVolumeTotalCapacity</th>\n",
       "      <td>56</td>\n",
       "      <td>0.560056</td>\n",
       "    </tr>\n",
       "    <tr>\n",
       "      <th>Census_PrimaryDiskTotalCapacity</th>\n",
       "      <td>56</td>\n",
       "      <td>0.560056</td>\n",
       "    </tr>\n",
       "    <tr>\n",
       "      <th>Census_InternalPrimaryDiagonalDisplaySizeInInches</th>\n",
       "      <td>50</td>\n",
       "      <td>0.500050</td>\n",
       "    </tr>\n",
       "    <tr>\n",
       "      <th>Census_InternalPrimaryDisplayResolutionVertical</th>\n",
       "      <td>50</td>\n",
       "      <td>0.500050</td>\n",
       "    </tr>\n",
       "    <tr>\n",
       "      <th>Census_InternalPrimaryDisplayResolutionHorizontal</th>\n",
       "      <td>50</td>\n",
       "      <td>0.500050</td>\n",
       "    </tr>\n",
       "    <tr>\n",
       "      <th>Census_ProcessorModelIdentifier</th>\n",
       "      <td>44</td>\n",
       "      <td>0.440044</td>\n",
       "    </tr>\n",
       "    <tr>\n",
       "      <th>Census_ProcessorManufacturerIdentifier</th>\n",
       "      <td>44</td>\n",
       "      <td>0.440044</td>\n",
       "    </tr>\n",
       "    <tr>\n",
       "      <th>Census_ProcessorCoreCount</th>\n",
       "      <td>44</td>\n",
       "      <td>0.440044</td>\n",
       "    </tr>\n",
       "    <tr>\n",
       "      <th>RtpStateBitfield</th>\n",
       "      <td>34</td>\n",
       "      <td>0.340034</td>\n",
       "    </tr>\n",
       "    <tr>\n",
       "      <th>IsProtected</th>\n",
       "      <td>30</td>\n",
       "      <td>0.300030</td>\n",
       "    </tr>\n",
       "    <tr>\n",
       "      <th>AVProductsEnabled</th>\n",
       "      <td>30</td>\n",
       "      <td>0.300030</td>\n",
       "    </tr>\n",
       "    <tr>\n",
       "      <th>AVProductsInstalled</th>\n",
       "      <td>30</td>\n",
       "      <td>0.300030</td>\n",
       "    </tr>\n",
       "    <tr>\n",
       "      <th>AVProductStatesIdentifier</th>\n",
       "      <td>30</td>\n",
       "      <td>0.300030</td>\n",
       "    </tr>\n",
       "    <tr>\n",
       "      <th>Census_IsVirtualDevice</th>\n",
       "      <td>17</td>\n",
       "      <td>0.170017</td>\n",
       "    </tr>\n",
       "    <tr>\n",
       "      <th>Census_PrimaryDiskTypeName</th>\n",
       "      <td>16</td>\n",
       "      <td>0.160016</td>\n",
       "    </tr>\n",
       "    <tr>\n",
       "      <th>UacLuaenable</th>\n",
       "      <td>9</td>\n",
       "      <td>0.090009</td>\n",
       "    </tr>\n",
       "    <tr>\n",
       "      <th>Platform</th>\n",
       "      <td>0</td>\n",
       "      <td>0.000000</td>\n",
       "    </tr>\n",
       "    <tr>\n",
       "      <th>OsSuite</th>\n",
       "      <td>0</td>\n",
       "      <td>0.000000</td>\n",
       "    </tr>\n",
       "    <tr>\n",
       "      <th>OsPlatformSubRelease</th>\n",
       "      <td>0</td>\n",
       "      <td>0.000000</td>\n",
       "    </tr>\n",
       "    <tr>\n",
       "      <th>ProductName</th>\n",
       "      <td>0</td>\n",
       "      <td>0.000000</td>\n",
       "    </tr>\n",
       "    <tr>\n",
       "      <th>EngineVersion</th>\n",
       "      <td>0</td>\n",
       "      <td>0.000000</td>\n",
       "    </tr>\n",
       "    <tr>\n",
       "      <th>AppVersion</th>\n",
       "      <td>0</td>\n",
       "      <td>0.000000</td>\n",
       "    </tr>\n",
       "    <tr>\n",
       "      <th>AvSigVersion</th>\n",
       "      <td>0</td>\n",
       "      <td>0.000000</td>\n",
       "    </tr>\n",
       "    <tr>\n",
       "      <th>IsSxsPassiveMode</th>\n",
       "      <td>0</td>\n",
       "      <td>0.000000</td>\n",
       "    </tr>\n",
       "    <tr>\n",
       "      <th>OsBuild</th>\n",
       "      <td>0</td>\n",
       "      <td>0.000000</td>\n",
       "    </tr>\n",
       "    <tr>\n",
       "      <th>IsBeta</th>\n",
       "      <td>0</td>\n",
       "      <td>0.000000</td>\n",
       "    </tr>\n",
       "  </tbody>\n",
       "</table>\n",
       "</div>"
      ],
      "text/plain": [
       "                                                   Total    Percent\n",
       "PuaMode                                             9996  99.969997\n",
       "Census_ProcessorClass                               9957  99.579958\n",
       "DefaultBrowsersIdentifier                           9527  95.279528\n",
       "Census_IsFlightingInternal                          8308  83.088309\n",
       "Census_InternalBatteryType                          7119  71.197120\n",
       "Census_ThresholdOptIn                               6371  63.716372\n",
       "Census_IsWIMBootEnabled                             6360  63.606361\n",
       "SmartScreen                                         3603  36.033603\n",
       "OrganizationIdentifier                              3027  30.273027\n",
       "SMode                                                609   6.090609\n",
       "CityIdentifier                                       383   3.830383\n",
       "Census_InternalBatteryNumberOfCharges                315   3.150315\n",
       "Wdft_RegionIdentifier                                309   3.090309\n",
       "Wdft_IsGamer                                         309   3.090309\n",
       "Census_FirmwareManufacturerIdentifier                206   2.060206\n",
       "Census_IsFlightsDisabled                             186   1.860186\n",
       "Census_FirmwareVersionIdentifier                     185   1.850185\n",
       "Census_OEMModelIdentifier                            115   1.150115\n",
       "Census_OEMNameIdentifier                             104   1.040104\n",
       "Firewall                                              96   0.960096\n",
       "Census_TotalPhysicalRAM                               92   0.920092\n",
       "Census_IsAlwaysOnAlwaysConnectedCapable               78   0.780078\n",
       "IeVerIdentifier                                       75   0.750075\n",
       "Census_OSInstallLanguageIdentifier                    73   0.730073\n",
       "Census_SystemVolumeTotalCapacity                      56   0.560056\n",
       "Census_PrimaryDiskTotalCapacity                       56   0.560056\n",
       "Census_InternalPrimaryDiagonalDisplaySizeInInches     50   0.500050\n",
       "Census_InternalPrimaryDisplayResolutionVertical       50   0.500050\n",
       "Census_InternalPrimaryDisplayResolutionHorizontal     50   0.500050\n",
       "Census_ProcessorModelIdentifier                       44   0.440044\n",
       "Census_ProcessorManufacturerIdentifier                44   0.440044\n",
       "Census_ProcessorCoreCount                             44   0.440044\n",
       "RtpStateBitfield                                      34   0.340034\n",
       "IsProtected                                           30   0.300030\n",
       "AVProductsEnabled                                     30   0.300030\n",
       "AVProductsInstalled                                   30   0.300030\n",
       "AVProductStatesIdentifier                             30   0.300030\n",
       "Census_IsVirtualDevice                                17   0.170017\n",
       "Census_PrimaryDiskTypeName                            16   0.160016\n",
       "UacLuaenable                                           9   0.090009\n",
       "Platform                                               0   0.000000\n",
       "OsSuite                                                0   0.000000\n",
       "OsPlatformSubRelease                                   0   0.000000\n",
       "ProductName                                            0   0.000000\n",
       "EngineVersion                                          0   0.000000\n",
       "AppVersion                                             0   0.000000\n",
       "AvSigVersion                                           0   0.000000\n",
       "IsSxsPassiveMode                                       0   0.000000\n",
       "OsBuild                                                0   0.000000\n",
       "IsBeta                                                 0   0.000000"
      ]
     },
     "execution_count": 14,
     "metadata": {},
     "output_type": "execute_result"
    }
   ],
   "source": [
    "missing_train_data.head(50)\n"
   ]
  },
  {
   "cell_type": "code",
   "execution_count": 15,
   "metadata": {},
   "outputs": [],
   "source": [
    "train_small = train # train.sample(frac=0.2).copy() # not small for now"
   ]
  },
  {
   "cell_type": "code",
   "execution_count": 17,
   "metadata": {},
   "outputs": [
    {
     "name": "stdout",
     "output_type": "stream",
     "text": [
      "float64\n"
     ]
    }
   ],
   "source": [
    "print(train_small['DefaultBrowsersIdentifier'].dtypes)"
   ]
  },
  {
   "cell_type": "code",
   "execution_count": 18,
   "metadata": {},
   "outputs": [
    {
     "data": {
      "image/png": "[encoded data removed]",
      "text/plain": [
       "<Figure size 1152x576 with 2 Axes>"
      ]
     },
     "metadata": {
      "needs_background": "light"
     },
     "output_type": "display_data"
    }
   ],
   "source": [
    "fig, ax = plt.subplots(1, 2, figsize=(16, 8))\n",
    "sns.kdeplot(train_small.loc[train['HasDetections'] == 0, 'DefaultBrowsersIdentifier'], ax=ax[0], label='NoDetection(0)')\n",
    "sns.kdeplot(train_small.loc[train['HasDetections'] == 1, 'DefaultBrowsersIdentifier'], ax=ax[0], label='HasDetection(1)')\n",
    "\n",
    "train_small.loc[train['HasDetections'] == 0, 'DefaultBrowsersIdentifier'].hist(ax=ax[1])\n",
    "train_small.loc[train['HasDetections'] == 1, 'DefaultBrowsersIdentifier'].hist(ax=ax[1])\n",
    "ax[1].legend(['NoDetection(0)', 'HasDetection(1)'])\n",
    "\n",
    "plt.show()"
   ]
  },
  {
   "cell_type": "code",
   "execution_count": 19,
   "metadata": {},
   "outputs": [
    {
     "name": "stdout",
     "output_type": "stream",
     "text": [
      "float64\n"
     ]
    }
   ],
   "source": [
    "print(train_small['Census_IsFlightingInternal'].dtypes)"
   ]
  },
  {
   "cell_type": "code",
   "execution_count": 20,
   "metadata": {},
   "outputs": [
    {
     "name": "stderr",
     "output_type": "stream",
     "text": [
      "/usr/lib/python2.7/site-packages/seaborn/distributions.py:290: UserWarning: Data must have variance to compute a kernel density estimate.\n",
      "  warnings.warn(msg, UserWarning)\n"
     ]
    },
    {
     "data": {
      "image/png": "[encoded data removed]",
      "text/plain": [
       "<Figure size 1152x576 with 2 Axes>"
      ]
     },
     "metadata": {
      "needs_background": "light"
     },
     "output_type": "display_data"
    }
   ],
   "source": [
    "fig, ax = plt.subplots(1, 2, figsize=(16, 8))\n",
    "sns.kdeplot(train_small.loc[train['HasDetections'] == 0, 'Census_IsFlightingInternal'], ax=ax[0], label='NoDetection(0)')\n",
    "sns.kdeplot(train_small.loc[train['HasDetections'] == 1, 'Census_IsFlightingInternal'], ax=ax[0], label='HasDetection(1)')\n",
    "\n",
    "train_small.loc[train['HasDetections'] == 0, 'Census_IsFlightingInternal'].hist(ax=ax[1])\n",
    "train_small.loc[train['HasDetections'] == 1, 'Census_IsFlightingInternal'].hist(ax=ax[1])\n",
    "ax[1].legend(['NoDetection(0)', 'HasDetection(1)'])\n",
    "\n",
    "plt.show()"
   ]
  },
  {
   "cell_type": "code",
   "execution_count": 21,
   "metadata": {},
   "outputs": [],
   "source": [
    "categorical_features = [\n",
    "        'ProductName',                                          \n",
    "        'EngineVersion',                                        \n",
    "        'AppVersion',                                           \n",
    "        'AvSigVersion',                                         \n",
    "        'Platform',                                             \n",
    "        'Processor',                                            \n",
    "        'OsVer',                                                \n",
    "        'OsPlatformSubRelease',                                 \n",
    "        'OsBuildLab',                                           \n",
    "        'SkuEdition',                                           \n",
    "        'SmartScreen',                                          \n",
    "        'Census_MDC2FormFactor',                                \n",
    "        'Census_DeviceFamily',                                  \n",
    "        'Census_PrimaryDiskTypeName',                           \n",
    "        'Census_ChassisTypeName',                               \n",
    "        'Census_PowerPlatformRoleName',                         \n",
    "        'Census_OSVersion',                                     \n",
    "        'Census_OSArchitecture',                                \n",
    "        'Census_OSBranch',                                      \n",
    "        'Census_OSEdition',                                     \n",
    "        'Census_OSSkuName',                                     \n",
    "        'Census_OSInstallTypeName',                             \n",
    "        'Census_OSWUAutoUpdateOptionsName',                     \n",
    "        'Census_GenuineStateName',                              \n",
    "        'Census_ActivationChannel',                             \n",
    "        'Census_FlightRing',                                    \n",
    "]\n"
   ]
  },
  {
   "cell_type": "code",
   "execution_count": 22,
   "metadata": {},
   "outputs": [],
   "source": [
    "def plot_category_percent_of_target(col):\n",
    "    fig, ax = plt.subplots(1, 1, figsize=(15, 10))\n",
    "    cat_percent = train_small[[col, 'HasDetections']].groupby(col, as_index=False).mean()\n",
    "    cat_size = train_small[col].value_counts().reset_index(drop=False)\n",
    "    cat_size.columns = [col, 'count']\n",
    "    cat_percent = cat_percent.merge(cat_size, on=col, how='left')\n",
    "    cat_percent['HasDetections'] = cat_percent['HasDetections'].fillna(0)\n",
    "    cat_percent = cat_percent.sort_values(by='count', ascending=False)[:20]\n",
    "    sns.barplot(ax=ax, x='HasDetections', y=col, data=cat_percent, order=cat_percent[col])\n",
    "\n",
    "    for i, p in enumerate(ax.patches):\n",
    "        ax.annotate('{}'.format(cat_percent['count'].values[i]), (p.get_width(), p.get_y()+0.5), fontsize=20)\n",
    "\n",
    "    plt.xlabel('% of HasDetections(target)')\n",
    "    plt.ylabel(col)\n",
    "    plt.show()\n"
   ]
  },
  {
   "cell_type": "code",
   "execution_count": null,
   "metadata": {},
   "outputs": [],
   "source": []
  }
 ],
 "metadata": {
  "kernelspec": {
   "display_name": "Python 2",
   "language": "python",
   "name": "python2"
  },
  "language_info": {
   "codemirror_mode": {
    "name": "ipython",
    "version": 2
   },
   "file_extension": ".py",
   "mimetype": "text/x-python",
   "name": "python",
   "nbconvert_exporter": "python",
   "pygments_lexer": "ipython2",
   "version": "2.7.5"
  }
 },
 "nbformat": 4,
 "nbformat_minor": 2
}
